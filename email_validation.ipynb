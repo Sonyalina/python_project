{
  "nbformat": 4,
  "nbformat_minor": 0,
  "metadata": {
    "colab": {
      "provenance": [],
      "mount_file_id": "1Ti3E0IprUBvUG6yllUaXg0MLsbb7xQeZ",
      "authorship_tag": "ABX9TyNG4g/kHTlEzW2iKUq7iB7U",
      "include_colab_link": true
    },
    "kernelspec": {
      "name": "python3",
      "display_name": "Python 3"
    },
    "language_info": {
      "name": "python"
    }
  },
  "cells": [
    {
      "cell_type": "markdown",
      "metadata": {
        "id": "view-in-github",
        "colab_type": "text"
      },
      "source": [
        "<a href=\"https://colab.research.google.com/github/Sonyalina/python_project/blob/main/email_validation.ipynb\" target=\"_parent\"><img src=\"https://colab.research.google.com/assets/colab-badge.svg\" alt=\"Open In Colab\"/></a>"
      ]
    },
    {
      "cell_type": "code",
      "source": [
        "email=input(\"Enter your Email: \")\n",
        "k,j,d=0,0,0\n",
        "if len(email)>=6:\n",
        "  if email[0].isalpha():\n",
        "    if (\"@\" in email) and (email.count(\"@\")==1):\n",
        "      if (email[-4]==\".\") ^ (email[-3]==\".\"): #xor operation\n",
        "        for i in email:\n",
        "          if i==i.isspace():\n",
        "            k=1\n",
        "          elif i.isalpha():\n",
        "            if i==i.upper():\n",
        "              j=1\n",
        "          elif i.isdigit():\n",
        "            continue\n",
        "          elif i==\".\" or i==\"@\" or i==\"_\":\n",
        "            continue\n",
        "          else:\n",
        "            d=1\n",
        "        if k==1 or j==1 or d==1:\n",
        "          print(\"wrong email their is space/upper/special character\")\n",
        "      else:\n",
        "        print(\"wrong position of dot email \")\n",
        "    else:\n",
        "      print(\"more than one \"@\" in email \")\n",
        "  else:\n",
        "    print(\"non-alpha first letter of email\")\n",
        "else:\n",
        "  print(\"wrong length of email\")"
      ],
      "metadata": {
        "id": "wy6qPCFm0YHM"
      },
      "execution_count": null,
      "outputs": []
    },
    {
      "cell_type": "code",
      "source": [
        "from google.colab import drive\n",
        "drive.mount('/content/drive')"
      ],
      "metadata": {
        "id": "xsG65bDH6g_6"
      },
      "execution_count": null,
      "outputs": []
    },
    {
      "cell_type": "code",
      "source": [],
      "metadata": {
        "id": "PhbCMglI44hE"
      },
      "execution_count": 4,
      "outputs": []
    }
  ]
}